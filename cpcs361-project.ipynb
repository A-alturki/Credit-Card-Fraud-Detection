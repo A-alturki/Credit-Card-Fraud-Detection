{
 "cells": [
  {
   "cell_type": "markdown",
   "metadata": {},
   "source": [
    "Credit Card Fraud Detection\n",
    "In this project we will predict fraudulent credit card transactions with the help of Machine learning models.\n",
    "\n",
    "In order to complete the project, we are going to follow below high level steps to build and select best model.\n",
    "\n",
    "Read the dataset and perform exploratory data analysis\n",
    "Building different classification models on the unbalanced data\n",
    "Building different models on 3 different balancing technique.\n",
    "Random Oversampling\n",
    "SMOTE\n",
    "ADASYN"
   ]
  }
 ],
 "metadata": {
  "language_info": {
   "name": "python"
  }
 },
 "nbformat": 4,
 "nbformat_minor": 2
}
